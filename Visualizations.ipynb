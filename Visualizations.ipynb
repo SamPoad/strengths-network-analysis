{
 "cells": [
  {
   "cell_type": "markdown",
   "metadata": {},
   "source": [
    "# Visualizations"
   ]
  },
  {
   "cell_type": "code",
   "execution_count": 1,
   "metadata": {},
   "outputs": [],
   "source": [
    "# DEPENDENCIES\n",
    "import pandas as pd\n",
    "import numpy as np\n"
   ]
  },
  {
   "cell_type": "code",
   "execution_count": 7,
   "metadata": {},
   "outputs": [],
   "source": [
    "# IMPORT THE DATA\n",
    "df = pd.read_csv('CAGmembers.csv')"
   ]
  },
  {
   "cell_type": "code",
   "execution_count": 8,
   "metadata": {},
   "outputs": [
    {
     "data": {
      "text/html": [
       "<div>\n",
       "<style scoped>\n",
       "    .dataframe tbody tr th:only-of-type {\n",
       "        vertical-align: middle;\n",
       "    }\n",
       "\n",
       "    .dataframe tbody tr th {\n",
       "        vertical-align: top;\n",
       "    }\n",
       "\n",
       "    .dataframe thead th {\n",
       "        text-align: right;\n",
       "    }\n",
       "</style>\n",
       "<table border=\"1\" class=\"dataframe\">\n",
       "  <thead>\n",
       "    <tr style=\"text-align: right;\">\n",
       "      <th></th>\n",
       "      <th>AM</th>\n",
       "      <th>Strength 1</th>\n",
       "      <th>Strength 2</th>\n",
       "      <th>Strength 3</th>\n",
       "      <th>Strength 4</th>\n",
       "      <th>Strength 5</th>\n",
       "      <th>Core/Key</th>\n",
       "    </tr>\n",
       "  </thead>\n",
       "  <tbody>\n",
       "    <tr>\n",
       "      <td>0</td>\n",
       "      <td>0</td>\n",
       "      <td>Arranger</td>\n",
       "      <td>Restorative</td>\n",
       "      <td>Positivity</td>\n",
       "      <td>Relator</td>\n",
       "      <td>Strategic</td>\n",
       "      <td>Manager</td>\n",
       "    </tr>\n",
       "    <tr>\n",
       "      <td>1</td>\n",
       "      <td>1</td>\n",
       "      <td>Analytical</td>\n",
       "      <td>Restorative</td>\n",
       "      <td>Learner</td>\n",
       "      <td>Input</td>\n",
       "      <td>Strategic</td>\n",
       "      <td>Manager</td>\n",
       "    </tr>\n",
       "    <tr>\n",
       "      <td>2</td>\n",
       "      <td>2</td>\n",
       "      <td>Competitor</td>\n",
       "      <td>Significance</td>\n",
       "      <td>Futuristic</td>\n",
       "      <td>Restorative</td>\n",
       "      <td>Achiever</td>\n",
       "      <td>Core</td>\n",
       "    </tr>\n",
       "    <tr>\n",
       "      <td>3</td>\n",
       "      <td>3</td>\n",
       "      <td>Activator</td>\n",
       "      <td>Achiever</td>\n",
       "      <td>Focus</td>\n",
       "      <td>Competitor</td>\n",
       "      <td>Positivity</td>\n",
       "      <td>Manager</td>\n",
       "    </tr>\n",
       "    <tr>\n",
       "      <td>4</td>\n",
       "      <td>4</td>\n",
       "      <td>Woo</td>\n",
       "      <td>Communicator</td>\n",
       "      <td>Achiever</td>\n",
       "      <td>Competitor</td>\n",
       "      <td>Relator</td>\n",
       "      <td>Core</td>\n",
       "    </tr>\n",
       "  </tbody>\n",
       "</table>\n",
       "</div>"
      ],
      "text/plain": [
       "   AM  Strength 1    Strength 2  Strength 3   Strength 4  Strength 5 Core/Key\n",
       "0   0    Arranger   Restorative  Positivity      Relator   Strategic  Manager\n",
       "1   1  Analytical   Restorative     Learner        Input   Strategic  Manager\n",
       "2   2  Competitor  Significance  Futuristic  Restorative    Achiever     Core\n",
       "3   3   Activator      Achiever       Focus   Competitor  Positivity  Manager\n",
       "4   4         Woo  Communicator    Achiever   Competitor     Relator     Core"
      ]
     },
     "execution_count": 8,
     "metadata": {},
     "output_type": "execute_result"
    }
   ],
   "source": [
    "df.head()"
   ]
  },
  {
   "cell_type": "code",
   "execution_count": 9,
   "metadata": {
    "scrolled": true
   },
   "outputs": [
    {
     "name": "stdout",
     "output_type": "stream",
     "text": [
      "<class 'pandas.core.frame.DataFrame'>\n",
      "RangeIndex: 18 entries, 0 to 17\n",
      "Data columns (total 7 columns):\n",
      "AM            18 non-null int64\n",
      "Strength 1    13 non-null object\n",
      "Strength 2    13 non-null object\n",
      "Strength 3    13 non-null object\n",
      "Strength 4    13 non-null object\n",
      "Strength 5    13 non-null object\n",
      "Core/Key      18 non-null object\n",
      "dtypes: int64(1), object(6)\n",
      "memory usage: 1.1+ KB\n"
     ]
    }
   ],
   "source": [
    "df.info()"
   ]
  },
  {
   "cell_type": "code",
   "execution_count": 10,
   "metadata": {},
   "outputs": [],
   "source": [
    "# drop my nulls\n",
    "df.dropna(how = 'any', axis = 0, inplace = True)"
   ]
  },
  {
   "cell_type": "code",
   "execution_count": 11,
   "metadata": {},
   "outputs": [
    {
     "name": "stdout",
     "output_type": "stream",
     "text": [
      "<class 'pandas.core.frame.DataFrame'>\n",
      "Int64Index: 13 entries, 0 to 14\n",
      "Data columns (total 7 columns):\n",
      "AM            13 non-null int64\n",
      "Strength 1    13 non-null object\n",
      "Strength 2    13 non-null object\n",
      "Strength 3    13 non-null object\n",
      "Strength 4    13 non-null object\n",
      "Strength 5    13 non-null object\n",
      "Core/Key      13 non-null object\n",
      "dtypes: int64(1), object(6)\n",
      "memory usage: 832.0+ bytes\n"
     ]
    }
   ],
   "source": [
    "df.info()"
   ]
  },
  {
   "cell_type": "code",
   "execution_count": null,
   "metadata": {},
   "outputs": [],
   "source": []
  }
 ],
 "metadata": {
  "kernelspec": {
   "display_name": "Python 3",
   "language": "python",
   "name": "python3"
  },
  "language_info": {
   "codemirror_mode": {
    "name": "ipython",
    "version": 3
   },
   "file_extension": ".py",
   "mimetype": "text/x-python",
   "name": "python",
   "nbconvert_exporter": "python",
   "pygments_lexer": "ipython3",
   "version": "3.7.4"
  }
 },
 "nbformat": 4,
 "nbformat_minor": 2
}
